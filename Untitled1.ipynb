{
  "nbformat": 4,
  "nbformat_minor": 0,
  "metadata": {
    "colab": {
      "name": "Untitled1.ipynb",
      "provenance": [],
      "authorship_tag": "ABX9TyNpuaedWOyJBvIYiTpUhCN7",
      "include_colab_link": true
    },
    "kernelspec": {
      "name": "python3",
      "display_name": "Python 3"
    },
    "language_info": {
      "name": "python"
    }
  },
  "cells": [
    {
      "cell_type": "markdown",
      "metadata": {
        "id": "view-in-github",
        "colab_type": "text"
      },
      "source": [
        "<a href=\"https://colab.research.google.com/github/pablodelcueto/Exploraciongit/blob/master/Untitled1.ipynb\" target=\"_parent\"><img src=\"https://colab.research.google.com/assets/colab-badge.svg\" alt=\"Open In Colab\"/></a>"
      ]
    },
    {
      "cell_type": "code",
      "execution_count": null,
      "metadata": {
        "id": "QehOnglE8KF_"
      },
      "outputs": [],
      "source": [
        "extra_hour = False\n",
        "week_list = ['monday', 'tuesday', 'wensday', 'thursdar', 'friday', 'saturday', 'sunday']\n",
        "\n",
        "def add_time(start, duration, initial_day=None):\n",
        "    global extra_hour \n",
        "    extra_hour = False\n",
        "    initial_time = split_time(start)\n",
        "    extra_time = split_extra_time(duration)\n",
        "    new_time = addition(initial_time, extra_time)\n",
        "    added_days = int(new_time['hour']-initial_time['hour']/24)\n",
        "    message = create_message(new_time, added_days, initial_day)\n",
        "    return message\n",
        "\n",
        "def create_message(time, days_added, initial_day=None):\n",
        "    if initial_day != None:\n",
        "        final_day = week_list[(week_list.index(initial_day)+days_added)%7]\n",
        "        return '{}:{} {}' .format(time['hour']%12,time['minutes'], final_day)\n",
        "    \n",
        "        \n",
        "def compute_final_day(initial_day, added_days):\n",
        "    final_day = week_list[(week_list.index(initial_day)+added_days)%7]\n",
        "    return final_day\n",
        "\n",
        "    \n",
        "def split_time(time): \n",
        "    time_list = time.split(' ')\n",
        "    time_quantity = time_list[0]\n",
        "    time_period = time_list[1]\n",
        "    hour = time_quantity.split(':')[0]\n",
        "    minute = time_quantity.split(':')[1]\n",
        "    return {'hour': int(hour), 'minutes': int(minute), 'period': time_period}\n",
        "\n",
        "def split_extra_time(time): \n",
        "    time_list = time.split(':')\n",
        "    return {'hour': int(time_list[0]), 'minutes': int(time_list[1])}\n",
        "\n",
        "\n",
        "def add_minutes(time, extra_time):\n",
        "    global extra_hour\n",
        "    if time['minutes'] + extra_time['minutes'] > 60:\n",
        "        extra_hour = True \n",
        "        return time['minutes'] + extra_time['minutes'] - 60\n",
        "    else: \n",
        "        extra_hour = False\n",
        "        return time['minutes'] + extra_time['minutes']\n",
        "\n",
        "\n",
        "def add_hours(time, extra_time):\n",
        "    if extra_hour:\n",
        "        return time['hour'] + extra_time['hour'] + 1\n",
        "    else: \n",
        "        return time['hour'] + extra_time['hour']\n",
        "    \n",
        "def adapt_period(time):\n",
        "    if int(time['hour'])%24 < 12:\n",
        "        return\n",
        "    \n",
        "    elif (time['period'] == 'AM'): \n",
        "        time['period'] = 'PM'\n",
        "    else:\n",
        "        time['period'] = 'AM'\n",
        "    \n",
        "def compute_added_days(extra_time):\n",
        "    return int(extra_time['hour']/24)\n",
        "\n",
        "    \n",
        "def addition(time1, time):\n",
        "    new_min = add_minutes(time1, time)\n",
        "    new_hour = add_hours(time1, time)\n",
        "    new_time = {'hour': new_hour, 'minutes': new_min, 'period': time1['period']}\n",
        "    adapt_period(new_time)\n",
        "    return new_time"
      ]
    }
  ]
}